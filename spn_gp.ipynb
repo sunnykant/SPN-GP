{
  "nbformat": 4,
  "nbformat_minor": 0,
  "metadata": {
    "colab": {
      "name": "spn.ipynb",
      "provenance": [],
      "collapsed_sections": []
    },
    "kernelspec": {
      "name": "python3",
      "display_name": "Python 3"
    },
    "accelerator": "GPU"
  },
  "cells": [
    {
      "cell_type": "code",
      "metadata": {
        "id": "A1dvRnj7lFmR",
        "colab_type": "code",
        "outputId": "3f98fba3-460a-4caa-a958-dd5464f3ca8e",
        "colab": {
          "base_uri": "https://localhost:8080/",
          "height": 127
        }
      },
      "source": [
        "from google.colab import drive \n",
        "drive.mount('/content/gdrive')"
      ],
      "execution_count": 1,
      "outputs": [
        {
          "output_type": "stream",
          "text": [
            "Go to this URL in a browser: https://accounts.google.com/o/oauth2/auth?client_id=947318989803-6bn6qk8qdgf4n4g3pfee6491hc0brc4i.apps.googleusercontent.com&redirect_uri=urn%3aietf%3awg%3aoauth%3a2.0%3aoob&response_type=code&scope=email%20https%3a%2f%2fwww.googleapis.com%2fauth%2fdocs.test%20https%3a%2f%2fwww.googleapis.com%2fauth%2fdrive%20https%3a%2f%2fwww.googleapis.com%2fauth%2fdrive.photos.readonly%20https%3a%2f%2fwww.googleapis.com%2fauth%2fpeopleapi.readonly\n",
            "\n",
            "Enter your authorization code:\n",
            "··········\n",
            "Mounted at /content/gdrive\n"
          ],
          "name": "stdout"
        }
      ]
    },
    {
      "cell_type": "code",
      "metadata": {
        "id": "jLkoo78flYaD",
        "colab_type": "code",
        "outputId": "2d74476c-d7ea-441c-d993-af3c93baf62b",
        "colab": {
          "base_uri": "https://localhost:8080/",
          "height": 35
        }
      },
      "source": [
        "%cd /content/gdrive/My\\ Drive/spngp/spngp"
      ],
      "execution_count": 4,
      "outputs": [
        {
          "output_type": "stream",
          "text": [
            "/content/gdrive/My Drive/spngp/spngp\n"
          ],
          "name": "stdout"
        }
      ]
    },
    {
      "cell_type": "code",
      "metadata": {
        "id": "8EBXpb9Nl8Dw",
        "colab_type": "code",
        "outputId": "a66bf08f-8c71-404d-f405-1cee9809e825",
        "colab": {
          "base_uri": "https://localhost:8080/",
          "height": 217
        }
      },
      "source": [
        "!pip install gpytorch"
      ],
      "execution_count": 3,
      "outputs": [
        {
          "output_type": "stream",
          "text": [
            "Collecting gpytorch\n",
            "\u001b[?25l  Downloading https://files.pythonhosted.org/packages/5d/c7/0c31802b84fc55aa069943c844eaccb0e420e91d7f4ed07cc5e1d127c458/gpytorch-1.1.1.tar.gz (240kB)\n",
            "\r\u001b[K     |█▍                              | 10kB 27.7MB/s eta 0:00:01\r\u001b[K     |██▊                             | 20kB 6.0MB/s eta 0:00:01\r\u001b[K     |████                            | 30kB 6.8MB/s eta 0:00:01\r\u001b[K     |█████▌                          | 40kB 7.8MB/s eta 0:00:01\r\u001b[K     |██████▉                         | 51kB 6.9MB/s eta 0:00:01\r\u001b[K     |████████▏                       | 61kB 8.0MB/s eta 0:00:01\r\u001b[K     |█████████▌                      | 71kB 7.9MB/s eta 0:00:01\r\u001b[K     |███████████                     | 81kB 8.8MB/s eta 0:00:01\r\u001b[K     |████████████▎                   | 92kB 8.0MB/s eta 0:00:01\r\u001b[K     |█████████████▋                  | 102kB 8.1MB/s eta 0:00:01\r\u001b[K     |███████████████                 | 112kB 8.1MB/s eta 0:00:01\r\u001b[K     |████████████████▍               | 122kB 8.1MB/s eta 0:00:01\r\u001b[K     |█████████████████▊              | 133kB 8.1MB/s eta 0:00:01\r\u001b[K     |███████████████████             | 143kB 8.1MB/s eta 0:00:01\r\u001b[K     |████████████████████▌           | 153kB 8.1MB/s eta 0:00:01\r\u001b[K     |█████████████████████▉          | 163kB 8.1MB/s eta 0:00:01\r\u001b[K     |███████████████████████▏        | 174kB 8.1MB/s eta 0:00:01\r\u001b[K     |████████████████████████▌       | 184kB 8.1MB/s eta 0:00:01\r\u001b[K     |██████████████████████████      | 194kB 8.1MB/s eta 0:00:01\r\u001b[K     |███████████████████████████▎    | 204kB 8.1MB/s eta 0:00:01\r\u001b[K     |████████████████████████████▋   | 215kB 8.1MB/s eta 0:00:01\r\u001b[K     |██████████████████████████████  | 225kB 8.1MB/s eta 0:00:01\r\u001b[K     |███████████████████████████████▍| 235kB 8.1MB/s eta 0:00:01\r\u001b[K     |████████████████████████████████| 245kB 8.1MB/s \n",
            "\u001b[?25hBuilding wheels for collected packages: gpytorch\n",
            "  Building wheel for gpytorch (setup.py) ... \u001b[?25l\u001b[?25hdone\n",
            "  Created wheel for gpytorch: filename=gpytorch-1.1.1-py2.py3-none-any.whl size=400467 sha256=b969eaf1d6376e6af54c5b501553ec7daa9f6f25d0b7890ffba29fd27fb75174\n",
            "  Stored in directory: /root/.cache/pip/wheels/e5/a5/29/4dafc0624adf678108e0067836556f0c72588e85d851d78ae0\n",
            "Successfully built gpytorch\n",
            "Installing collected packages: gpytorch\n",
            "Successfully installed gpytorch-1.1.1\n"
          ],
          "name": "stdout"
        }
      ]
    },
    {
      "cell_type": "code",
      "metadata": {
        "id": "18JbzipHtPfy",
        "colab_type": "code",
        "colab": {}
      },
      "source": [
        "import time"
      ],
      "execution_count": 0,
      "outputs": []
    },
    {
      "cell_type": "code",
      "metadata": {
        "id": "4ZTdNAwymSPq",
        "colab_type": "code",
        "outputId": "8ce1da8b-3932-4a4c-f82a-d4b900801f9a",
        "colab": {
          "base_uri": "https://localhost:8080/",
          "height": 1000
        }
      },
      "source": [
        "start = time.time()\n",
        "!python 'cccp-spngp.py'\n",
        "end = time.time()\n",
        "t = end - start\n",
        "print(t)"
      ],
      "execution_count": 6,
      "outputs": [
        {
          "output_type": "stream",
          "text": [
            "Full:\t\t 435174864552 \n",
            "Optimized:\t 46200848384 \n",
            "#GP's:\t\t 16 (360-2440) \n",
            "Reduction:\t 89.3834%\n",
            "nsplits:\t Counter()\n",
            "Lengths:\t [1896, 1895, 876, 1129, 1269, 2426, 1120, 360, 2312, 514, 1000, 2286, 1436, 905, 920, 2440]\n",
            "Sum:\t\t 22784 (N=7578)\n",
            "Training GP 1/16 (1895)\n",
            "\tGP rbf init completed. Training on cuda\n",
            "\t Step 11/100, -mll(loss): 0.128\n",
            "\t Step 21/100, -mll(loss): 0.069\n",
            "\t Step 31/100, -mll(loss): -0.006\n",
            "\t Step 41/100, -mll(loss): -0.025\n",
            "\t Step 51/100, -mll(loss): 0.057\n",
            "\t Step 61/100, -mll(loss): -0.008\n",
            "\t Step 71/100, -mll(loss): -0.029\n",
            "\t Step 81/100, -mll(loss): -0.032\n",
            "\t Step 91/100, -mll(loss): -0.033\n",
            "\tCompleted. +mll: 0.033\n",
            "Training GP 2/16 (1129)\n",
            "\tGP rbf init completed. Training on cuda\n",
            "\t Step 11/100, -mll(loss): 0.071\n",
            "\t Step 21/100, -mll(loss): -0.125\n",
            "\t Step 31/100, -mll(loss): -0.181\n",
            "\t Step 41/100, -mll(loss): -0.046\n",
            "\t Step 51/100, -mll(loss): -0.142\n",
            "\t Step 61/100, -mll(loss): -0.077\n",
            "\t Step 71/100, -mll(loss): -0.124\n",
            "\t Step 81/100, -mll(loss): -0.147\n",
            "\t Step 91/100, -mll(loss): -0.144\n",
            "\tCompleted. +mll: 0.126\n",
            "Training GP 3/16 (876)\n",
            "\tGP rbf init completed. Training on cuda\n",
            "\t Step 11/100, -mll(loss): 0.108\n",
            "\t Step 21/100, -mll(loss): -0.013\n",
            "\t Step 31/100, -mll(loss): -0.087\n",
            "\t Step 41/100, -mll(loss): -0.07\n",
            "\t Step 51/100, -mll(loss): -0.075\n",
            "\t Step 61/100, -mll(loss): 0.002\n",
            "\t Step 71/100, -mll(loss): -0.017\n",
            "\t Step 81/100, -mll(loss): -0.017\n",
            "\t Step 91/100, -mll(loss): -0.07\n",
            "\tCompleted. +mll: 0.071\n",
            "Training GP 4/16 (2426)\n",
            "\tGP rbf init completed. Training on cuda\n",
            "\t Step 11/100, -mll(loss): 0.171\n",
            "\t Step 21/100, -mll(loss): 0.141\n",
            "\t Step 31/100, -mll(loss): 0.083\n",
            "\t Step 41/100, -mll(loss): 0.079\n",
            "\t Step 51/100, -mll(loss): 0.077\n",
            "\t Step 61/100, -mll(loss): 0.077\n",
            "\t Step 71/100, -mll(loss): 0.074\n",
            "\t Step 81/100, -mll(loss): 0.073\n",
            "\t Step 91/100, -mll(loss): 0.076\n",
            "\tCompleted. +mll: -0.075\n",
            "Training GP 5/16 (1269)\n",
            "\tGP rbf init completed. Training on cuda\n",
            "\t Step 11/100, -mll(loss): 0.151\n",
            "\t Step 21/100, -mll(loss): 0.07\n",
            "\t Step 31/100, -mll(loss): 0.138\n",
            "\t Step 41/100, -mll(loss): 0.124\n",
            "\t Step 51/100, -mll(loss): 0.025\n",
            "\t Step 61/100, -mll(loss): 0.025\n",
            "\t Step 71/100, -mll(loss): 0.052\n",
            "\t Step 81/100, -mll(loss): 0.021\n",
            "\t Step 91/100, -mll(loss): 0.085\n",
            "\tCompleted. +mll: -0.059\n",
            "Training GP 6/16 (1120)\n",
            "\tGP rbf init completed. Training on cuda\n",
            "\t Step 11/100, -mll(loss): 0.124\n",
            "\t Step 21/100, -mll(loss): 0.02\n",
            "\t Step 31/100, -mll(loss): -0.005\n",
            "\t Step 41/100, -mll(loss): 0.016\n",
            "\t Step 51/100, -mll(loss): 0.087\n",
            "\t Step 61/100, -mll(loss): -0.049\n",
            "\t Step 71/100, -mll(loss): -0.052\n",
            "\t Step 81/100, -mll(loss): -0.063\n",
            "\t Step 91/100, -mll(loss): -0.088\n",
            "\tCompleted. +mll: 0.063\n",
            "Training GP 7/16 (2312)\n",
            "\tGP rbf init completed. Training on cuda\n",
            "\t Step 11/100, -mll(loss): 0.109\n",
            "\t Step 21/100, -mll(loss): 0.027\n",
            "\t Step 31/100, -mll(loss): -0.046\n",
            "\t Step 41/100, -mll(loss): -0.041\n",
            "\t Step 51/100, -mll(loss): -0.045\n",
            "\t Step 61/100, -mll(loss): -0.05\n",
            "\t Step 71/100, -mll(loss): -0.049\n",
            "\t Step 81/100, -mll(loss): -0.05\n",
            "\t Step 91/100, -mll(loss): -0.05\n",
            "\tCompleted. +mll: 0.055\n",
            "Training GP 8/16 (360)\n",
            "\tGP rbf init completed. Training on cuda\n",
            "\t Step 11/100, -mll(loss): 0.127\n",
            "\t Step 21/100, -mll(loss): -0.042\n",
            "\t Step 31/100, -mll(loss): -0.12\n",
            "\t Step 41/100, -mll(loss): -0.136\n",
            "\t Step 51/100, -mll(loss): -0.142\n",
            "\t Step 61/100, -mll(loss): -0.144\n",
            "\t Step 71/100, -mll(loss): -0.146\n",
            "\t Step 81/100, -mll(loss): -0.147\n",
            "\t Step 91/100, -mll(loss): -0.148\n",
            "\tCompleted. +mll: 0.148\n",
            "Training GP 9/16 (514)\n",
            "\tGP rbf init completed. Training on cuda\n",
            "\t Step 11/100, -mll(loss): 0.063\n",
            "\t Step 21/100, -mll(loss): -0.216\n",
            "\t Step 31/100, -mll(loss): -0.233\n",
            "\t Step 41/100, -mll(loss): -0.235\n",
            "\t Step 51/100, -mll(loss): -0.246\n",
            "\t Step 61/100, -mll(loss): -0.247\n",
            "\t Step 71/100, -mll(loss): -0.247\n",
            "\t Step 81/100, -mll(loss): -0.248\n",
            "\t Step 91/100, -mll(loss): -0.248\n",
            "\tCompleted. +mll: 0.248\n",
            "Training GP 10/16 (2286)\n",
            "\tGP rbf init completed. Training on cuda\n",
            "\t Step 11/100, -mll(loss): 0.169\n",
            "\t Step 21/100, -mll(loss): 0.147\n",
            "\t Step 31/100, -mll(loss): 0.083\n",
            "\t Step 41/100, -mll(loss): 0.079\n",
            "\t Step 51/100, -mll(loss): 0.078\n",
            "\t Step 61/100, -mll(loss): 0.075\n",
            "\t Step 71/100, -mll(loss): 0.074\n",
            "\t Step 81/100, -mll(loss): 0.073\n",
            "\t Step 91/100, -mll(loss): 0.074\n",
            "\tCompleted. +mll: -0.074\n",
            "Training GP 11/16 (1000)\n",
            "\tGP rbf init completed. Training on cuda\n",
            "\t Step 11/100, -mll(loss): 0.167\n",
            "\t Step 21/100, -mll(loss): 0.086\n",
            "\t Step 31/100, -mll(loss): 0.163\n",
            "\t Step 41/100, -mll(loss): 0.055\n",
            "\t Step 51/100, -mll(loss): 0.044\n",
            "\t Step 61/100, -mll(loss): 0.045\n",
            "\t Step 71/100, -mll(loss): 0.056\n",
            "\t Step 81/100, -mll(loss): 0.031\n",
            "\t Step 91/100, -mll(loss): 0.005\n",
            "\tCompleted. +mll: -0.016\n",
            "Training GP 12/16 (905)\n",
            "\tGP rbf init completed. Training on cuda\n",
            "\t Step 11/100, -mll(loss): 0.092\n",
            "\t Step 21/100, -mll(loss): -0.073\n",
            "\t Step 31/100, -mll(loss): -0.149\n",
            "\t Step 41/100, -mll(loss): 0.012\n",
            "\t Step 51/100, -mll(loss): -0.051\n",
            "\t Step 61/100, -mll(loss): -0.126\n",
            "\t Step 71/100, -mll(loss): -0.066\n",
            "\t Step 81/100, -mll(loss): -0.068\n",
            "\t Step 91/100, -mll(loss): -0.068\n",
            "\tCompleted. +mll: 0.095\n",
            "Training GP 13/16 (1436)\n",
            "\tGP rbf init completed. Training on cuda\n",
            "\t Step 11/100, -mll(loss): 0.139\n",
            "\t Step 21/100, -mll(loss): 0.079\n",
            "\t Step 31/100, -mll(loss): -0.042\n",
            "\t Step 41/100, -mll(loss): 0.083\n",
            "\t Step 51/100, -mll(loss): 0.108\n",
            "\t Step 61/100, -mll(loss): 0.008\n",
            "\t Step 71/100, -mll(loss): 0.012\n",
            "\t Step 81/100, -mll(loss): -0.009\n",
            "\t Step 91/100, -mll(loss): 0.042\n",
            "\tCompleted. +mll: -0.058\n",
            "Training GP 14/16 (2440)\n",
            "\tGP rbf init completed. Training on cuda\n",
            "\t Step 11/100, -mll(loss): 0.109\n",
            "\t Step 21/100, -mll(loss): 0.024\n",
            "\t Step 31/100, -mll(loss): -0.051\n",
            "\t Step 41/100, -mll(loss): -0.041\n",
            "\t Step 51/100, -mll(loss): -0.047\n",
            "\t Step 61/100, -mll(loss): -0.051\n",
            "\t Step 71/100, -mll(loss): -0.051\n",
            "\t Step 81/100, -mll(loss): -0.049\n",
            "\t Step 91/100, -mll(loss): -0.051\n",
            "\tCompleted. +mll: 0.049\n",
            "Training GP 15/16 (920)\n",
            "\tGP rbf init completed. Training on cuda\n",
            "\t Step 11/100, -mll(loss): 0.122\n",
            "\t Step 21/100, -mll(loss): -0.024\n",
            "\t Step 31/100, -mll(loss): 0.027\n",
            "\t Step 41/100, -mll(loss): 0.029\n",
            "\t Step 51/100, -mll(loss): 0.022\n",
            "\t Step 61/100, -mll(loss): -0.08\n",
            "\t Step 71/100, -mll(loss): -0.025\n",
            "\t Step 81/100, -mll(loss): -0.061\n",
            "\t Step 91/100, -mll(loss): -0.087\n",
            "\tCompleted. +mll: 0.062\n",
            "Training GP 16/16 (1896)\n",
            "\tGP rbf init completed. Training on cuda\n",
            "\t Step 11/100, -mll(loss): 0.199\n",
            "\t Step 21/100, -mll(loss): 0.177\n",
            "\t Step 31/100, -mll(loss): 0.209\n",
            "\t Step 41/100, -mll(loss): 0.149\n",
            "\t Step 51/100, -mll(loss): 0.175\n",
            "\t Step 61/100, -mll(loss): 0.115\n",
            "\t Step 71/100, -mll(loss): 0.124\n",
            "\t Step 81/100, -mll(loss): 0.108\n",
            "\t Step 91/100, -mll(loss): 0.09\n",
            "\tCompleted. +mll: -0.115\n",
            "SPN-GP (smudge=0.0) \t RMSE: 3.6654588455302504\n",
            "SPN-GP (smudge=0.05) \t RMSE: 3.6577723922379546\n",
            "SPN-GP (smudge=0.1) \t RMSE: 3.651852345450615\n",
            "SPN-GP (smudge=0.15) \t RMSE: 3.6657690130439513\n",
            "SPN-GP (smudge=0.2) \t RMSE: 3.6818927826592818\n",
            "SPN-GP (smudge=0.25) \t RMSE: 3.709802889794394\n",
            "SPN-GP (smudge=0.3) \t RMSE: 3.723995168744298\n",
            "SPN-GP (smudge=0.35) \t RMSE: 3.7488555911926573\n",
            "SPN-GP (smudge=0.4) \t RMSE: 3.787598973655084\n",
            "SPN-GP (smudge=0.45) \t RMSE: 3.811592949730222\n",
            "66.48515200614929\n"
          ],
          "name": "stdout"
        }
      ]
    },
    {
      "cell_type": "code",
      "metadata": {
        "id": "QF-ZbZDHoEBG",
        "colab_type": "code",
        "colab": {}
      },
      "source": [
        ""
      ],
      "execution_count": 0,
      "outputs": []
    }
  ]
}